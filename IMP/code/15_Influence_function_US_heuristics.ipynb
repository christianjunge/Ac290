{
 "cells": [
  {
   "cell_type": "markdown",
   "metadata": {},
   "source": [
    "# Full US graph"
   ]
  },
  {
   "cell_type": "code",
   "execution_count": 1,
   "metadata": {
    "collapsed": false
   },
   "outputs": [],
   "source": [
    "# Import libraries\n",
    "%matplotlib inline\n",
    "import matplotlib.pyplot as plt\n",
    "import time\n",
    "import numpy as np\n",
    "from numpy import random\n",
    "import math\n",
    "import scipy\n",
    "from scipy import stats\n",
    "from random import choice\n",
    "import networkx as nx\n",
    "import json\n",
    "from networkx.readwrite import json_graph\n",
    "import line_profiler\n",
    "import IPython\n",
    "ip = IPython.get_ipython()\n",
    "ip.define_magic('lprun', line_profiler.magic_lprun)"
   ]
  },
  {
   "cell_type": "code",
   "execution_count": 2,
   "metadata": {
    "collapsed": false
   },
   "outputs": [],
   "source": [
    "import findspark\n",
    "import os\n",
    "findspark.init()\n",
    "# import pyspark\n",
    "# sc = pyspark.SparkContext()"
   ]
  },
  {
   "cell_type": "code",
   "execution_count": 5,
   "metadata": {
    "collapsed": false
   },
   "outputs": [],
   "source": [
    "# Load network graph\n",
    "with open(\"./graph/nc_mini.json\", \"r\") as graph_data_mini:\n",
    "    graph_data_mini = json.load(graph_data_mini)\n",
    "    NC_digraph_mini = json_graph.node_link_graph(graph_data_mini)\n",
    "    \n",
    "with open(\"./graph/nc_full.json\", \"r\") as graph_data_full:\n",
    "    graph_data_full = json.load(graph_data_full)\n",
    "    NC_digraph_full = json_graph.node_link_graph(graph_data_full)\n",
    "    \n",
    "# with open(\"./graph/US.json\", \"r\") as graph_data_US:\n",
    "#     graph_data_US = json.load(graph_data_US)\n",
    "#     NC_digraph_US = json_graph.node_link_graph(graph_data_US)"
   ]
  },
  {
   "cell_type": "code",
   "execution_count": null,
   "metadata": {
    "collapsed": true
   },
   "outputs": [],
   "source": [
    "import requests\n",
    "from networkx.readwrite import json_graph\n",
    "r = requests.get('https://usgraph.blob.core.windows.net/usgraph/usgraph')\n",
    "NC_digraph_US = json_graph.node_link_graph(r.json())"
   ]
  },
  {
   "cell_type": "markdown",
   "metadata": {},
   "source": [
    "### Functions"
   ]
  },
  {
   "cell_type": "code",
   "execution_count": 4,
   "metadata": {
    "collapsed": false
   },
   "outputs": [
    {
     "data": {
      "text/plain": [
       "350620"
      ]
     },
     "execution_count": 4,
     "metadata": {},
     "output_type": "execute_result"
    }
   ],
   "source": [
    "NC_digraph_US.number_of_nodes()"
   ]
  },
  {
   "cell_type": "code",
   "execution_count": 5,
   "metadata": {
    "collapsed": true
   },
   "outputs": [],
   "source": [
    "def influenceFunction(graph, detStartNodes, t=999999):\n",
    "\n",
    "    explored = set()\n",
    "    activated = set()\n",
    "    nodes = []\n",
    "    for node in detStartNodes:\n",
    "        nodes.append(node)\n",
    "        activated.add(node)\n",
    "    \n",
    "    start = detStartNodes[0]\n",
    "    successors = []\n",
    "\n",
    "    for i in range(t):\n",
    "        successors = []\n",
    "        while len(nodes)>0:\n",
    "            startNode = nodes[0]\n",
    "            if startNode not in explored:\n",
    "                explored.add(startNode)\n",
    "            for succNode in graph.succ[startNode]:\n",
    "                if succNode not in activated:\n",
    "                    alpha = graph[startNode][succNode]['weight']\n",
    "                    beta = graph.node[succNode]['review_count']\n",
    "                    if random.uniform(0,1) < np.sqrt(random.beta(alpha, beta)):\n",
    "                        if succNode not in explored:\n",
    "                            activated.add(succNode)\n",
    "                            successors.append(succNode)\n",
    "            nodes.remove(startNode)\n",
    "        nodes = successors\n",
    "        if not nodes:\n",
    "            break\n",
    "    return float(len(activated))"
   ]
  },
  {
   "cell_type": "code",
   "execution_count": 6,
   "metadata": {
    "collapsed": false
   },
   "outputs": [],
   "source": [
    "def influenceFunctionNotParDetStart(graph, detStartNodes, N, t=999999):\n",
    "    result = []\n",
    "    for n in xrange(N):\n",
    "        result.append(float(influenceFunction(graph, detStartNodes, t)))\n",
    "    return np.mean(result)"
   ]
  },
  {
   "cell_type": "code",
   "execution_count": 7,
   "metadata": {
    "collapsed": true
   },
   "outputs": [],
   "source": [
    "def influenceFunctionParDetStart(graph, detStartNodes, N, t=999999):\n",
    "    runs = sc.parallelize(range(N), 4)\n",
    "    results = runs.map(lambda x: influenceFunction(graph, detStartNodes, t))\n",
    "    return np.mean(results.collect())"
   ]
  },
  {
   "cell_type": "code",
   "execution_count": 8,
   "metadata": {
    "collapsed": true
   },
   "outputs": [],
   "source": [
    "def influenceFunctionNotParRandStart(graph, N, t=999999):\n",
    "    result = []\n",
    "    for n in xrange(N):\n",
    "        result.append(float(influenceFunction(graph, [random.choice(graph.nodes(),1)[0]], t)))\n",
    "    return np.mean(result)"
   ]
  },
  {
   "cell_type": "code",
   "execution_count": 9,
   "metadata": {
    "collapsed": true
   },
   "outputs": [],
   "source": [
    "def influenceFunctionParRandStart(graph, N, t=999999):\n",
    "    runs = sc.parallelize(range(N), 4)\n",
    "    results = runs.map(lambda x: influenceFunction(graph, [random.choice(graph.nodes(),1)[0]], t))\n",
    "    return np.mean(results.collect())"
   ]
  },
  {
   "cell_type": "code",
   "execution_count": 10,
   "metadata": {
    "collapsed": false
   },
   "outputs": [],
   "source": [
    "def greedySearch(graph, k=3, N=1000, t=999999):\n",
    "    \n",
    "    best_s = []\n",
    "    max_inf = 0\n",
    "    nodeRDD = sc.parallelize(list(set(list(sum(graph.edges(), ())))), 4)\n",
    "    \n",
    "    for i in range(k):\n",
    "        infRDD = nodeRDD.map(lambda n: (n, 0.) if n in best_s else \\\n",
    "                             (n, influenceFunctionNotParDetStart(graph, best_s + [n], N)))\n",
    "        next_s, next_i = infRDD.reduce(lambda a,b: a if a[1] > b[1] else b)\n",
    "        best_s += [next_s]\n",
    "        max_inf = next_i\n",
    "    \n",
    "    return best_s, max_inf"
   ]
  },
  {
   "cell_type": "code",
   "execution_count": 11,
   "metadata": {
    "collapsed": true
   },
   "outputs": [],
   "source": [
    "def maxEdges(graph, k=3):\n",
    "    \n",
    "    nodeRDD = sc.parallelize(list(set(list(sum(graph.edges(), ())))), 4)   \n",
    "    infRDD = nodeRDD.map(lambda n: (n, len(graph.succ[n])))\n",
    "    return infRDD.takeOrdered(k, lambda w: -w[1])"
   ]
  },
  {
   "cell_type": "code",
   "execution_count": 12,
   "metadata": {
    "collapsed": true
   },
   "outputs": [],
   "source": [
    "def maxNodes(graph, k=3, N=1000, t=999999):\n",
    "    \n",
    "    nodeRDD = sc.parallelize(list(set(list(sum(graph.edges(), ())))), 4)   \n",
    "    infRDD = nodeRDD.map(lambda n: (n, influenceFunctionNotParDetStart(graph, [n], N)))\n",
    "    return infRDD.takeOrdered(k, lambda w: -w[1])"
   ]
  },
  {
   "cell_type": "markdown",
   "metadata": {},
   "source": [
    "### Timing"
   ]
  },
  {
   "cell_type": "code",
   "execution_count": 13,
   "metadata": {
    "collapsed": false
   },
   "outputs": [
    {
     "name": "stdout",
     "output_type": "stream",
     "text": [
      "No cap on t (serial):\n",
      "184135.0\n",
      "4.542444 seconds run time\n",
      "\n",
      "t capped at 10 (serial):\n",
      "184073.0\n",
      "4.087694 seconds run time\n"
     ]
    }
   ],
   "source": [
    "# Influence function for given start nodes\n",
    "start = ['Iu3Jo9ROp2IWC9FwtWOaUQ', 'OaFcpi3W4AwxrD8W2pgC_A', 'glRXVWWD6x1EZKfjJawTOg']\n",
    "noRuns = 1\n",
    "\n",
    "print \"No cap on t (serial):\"\n",
    "startTime = time.time()\n",
    "print influenceFunctionNotParDetStart(NC_digraph_US, start, noRuns)\n",
    "runTime = time.time() - startTime\n",
    "print '%f seconds run time' % (runTime)\n",
    "\n",
    "print \"\\nt capped at 10 (serial):\"\n",
    "startTime = time.time()\n",
    "print influenceFunctionNotParDetStart(NC_digraph_US, start, noRuns, 10)\n",
    "runTime = time.time() - startTime\n",
    "print '%f seconds run time' % (runTime)"
   ]
  },
  {
   "cell_type": "code",
   "execution_count": 14,
   "metadata": {
    "collapsed": false
   },
   "outputs": [
    {
     "name": "stdout",
     "output_type": "stream",
     "text": [
      "No cap on t (serial):\n",
      "1.0\n",
      "0.192753 seconds run time\n",
      "\n",
      "t capped at 10 (serial):\n",
      "1.0\n",
      "0.122009 seconds run time\n"
     ]
    }
   ],
   "source": [
    "# Influence function for random start nodes\n",
    "noRuns = 1\n",
    "\n",
    "print \"No cap on t (serial):\"\n",
    "startTime = time.time()\n",
    "print influenceFunctionNotParRandStart(NC_digraph_US, noRuns)\n",
    "runTime = time.time() - startTime\n",
    "print '%f seconds run time' % (runTime)\n",
    "\n",
    "print \"\\nt capped at 10 (serial):\"\n",
    "startTime = time.time()\n",
    "print influenceFunctionNotParRandStart(NC_digraph_US, noRuns, 10)\n",
    "runTime = time.time() - startTime\n",
    "print '%f seconds run time' % (runTime)"
   ]
  },
  {
   "cell_type": "code",
   "execution_count": 15,
   "metadata": {
    "collapsed": false
   },
   "outputs": [],
   "source": [
    "# # Greedy algorithm\n",
    "# noRuns = 1\n",
    "\n",
    "# print \"No cap on t:\"\n",
    "# startTime = time.time()\n",
    "# print greedySearch(NC_digraph_US, 3, noRuns)\n",
    "# runTime = time.time() - startTime\n",
    "# print '%f seconds run time' % (runTime)\n",
    "\n",
    "# print \"\\nt capped at 10:\"\n",
    "# startTime = time.time()\n",
    "# print greedySearch(NC_digraph_US, 3, noRuns, 10)\n",
    "# runTime = time.time() - startTime\n",
    "# print '%f seconds run time' % (runTime)"
   ]
  },
  {
   "cell_type": "code",
   "execution_count": null,
   "metadata": {
    "collapsed": true
   },
   "outputs": [],
   "source": [
    "# # Look up nodes with max # of edges\n",
    "# startTime = time.time()\n",
    "# print maxEdges(NC_digraph_US, 3)\n",
    "# runTime = time.time() - startTime\n",
    "# print '%f seconds run time' % (runTime)"
   ]
  },
  {
   "cell_type": "code",
   "execution_count": null,
   "metadata": {
    "collapsed": false
   },
   "outputs": [],
   "source": [
    "# # Look up nodes with max # of activations\n",
    "# noRuns = 1\n",
    "\n",
    "# print \"No cap on t:\"\n",
    "# startTime = time.time()\n",
    "# print maxNodes(NC_digraph_US, 3, noRuns)\n",
    "# runTime = time.time() - startTime\n",
    "# print '%f seconds run time' % (runTime)\n",
    "\n",
    "# print \"\\nt capped at 10:\"\n",
    "# startTime = time.time()\n",
    "# print maxNodes(NC_digraph_US, 3, noRuns, 10)\n",
    "# runTime = time.time() - startTime\n",
    "# print '%f seconds run time' % (runTime)"
   ]
  }
 ],
 "metadata": {
  "kernelspec": {
   "display_name": "Python 2",
   "language": "python",
   "name": "python2"
  },
  "language_info": {
   "codemirror_mode": {
    "name": "ipython",
    "version": 2
   },
   "file_extension": ".py",
   "mimetype": "text/x-python",
   "name": "python",
   "nbconvert_exporter": "python",
   "pygments_lexer": "ipython2",
   "version": "2.7.10"
  }
 },
 "nbformat": 4,
 "nbformat_minor": 0
}
